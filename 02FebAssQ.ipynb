{
 "cells": [
  {
   "cell_type": "code",
   "execution_count": null,
   "id": "282e4f8e-1e81-4b90-80d4-2f1bffb94952",
   "metadata": {},
   "outputs": [],
   "source": [
    "# Q1. Characteristics of Tuples and Immutability\n",
    "# Characteristics:\n",
    "# 1. Ordered\n",
    "# 2. Immutable\n",
    "# 3. Heterogeneous\n",
    "# 4. Indexed\n",
    "# 5. Allow duplicates\n",
    "\n",
    "# Yes, tuples are immutable."
   ]
  },
  {
   "cell_type": "code",
   "execution_count": 1,
   "id": "9c8c354b-f7b1-4da1-ba67-442f605fef86",
   "metadata": {},
   "outputs": [
    {
     "name": "stdout",
     "output_type": "stream",
     "text": [
      "Count of 2: 3\n"
     ]
    }
   ],
   "source": [
    "# Q2. Two Tuple Methods in Python\n",
    "\n",
    "# Count Method Example\n",
    "my_tuple = (1, 2, 3, 2, 4, 2)\n",
    "count_of_2 = my_tuple.count(2)\n",
    "print(\"Count of 2:\", count_of_2)"
   ]
  },
  {
   "cell_type": "code",
   "execution_count": 2,
   "id": "a7e5653e-a093-4eef-9501-9f69042a2b8f",
   "metadata": {},
   "outputs": [
    {
     "name": "stdout",
     "output_type": "stream",
     "text": [
      "Index of 3: 2\n"
     ]
    }
   ],
   "source": [
    "# Index Method Example\n",
    "index_of_3 = my_tuple.index(3)\n",
    "print(\"Index of 3:\", index_of_3)\n",
    "# Tuples have only two in-built methods because they are immutable, \n",
    "# so operations like adding, removing, or modifying elements are not possible."
   ]
  },
  {
   "cell_type": "code",
   "execution_count": 3,
   "id": "3a0998f9-5eaf-45ce-bc2b-15ade361ae30",
   "metadata": {},
   "outputs": [
    {
     "name": "stdout",
     "output_type": "stream",
     "text": [
      "Unique List: [1, 2, 3, 4]\n"
     ]
    }
   ],
   "source": [
    "# Q3. Collection Datatypes that Do Not Allow Duplicate Items\n",
    "\n",
    "# Removing Duplicates Using a Set\n",
    "List = [1, 1, 1, 2, 1, 3, 1, 4, 2, 1, 2, 2, 2, 3, 2, 4, 3, 1, 3, 2, 3, 3, 3, 4, 4, 1, 4, 2, 4, 3, 4, 4]\n",
    "unique_list = list(set(List))\n",
    "print(\"Unique List:\", unique_list)  "
   ]
  },
  {
   "cell_type": "code",
   "execution_count": 4,
   "id": "f576bac6-0c02-411e-9b15-2665aca86eea",
   "metadata": {},
   "outputs": [
    {
     "name": "stdout",
     "output_type": "stream",
     "text": [
      "Union of sets: {1, 2, 3, 4, 5}\n"
     ]
    }
   ],
   "source": [
    "# Q4. Difference Between union() and update() Methods for a Set\n",
    "\n",
    "# union() Method Example\n",
    "set1 = {1, 2, 3}\n",
    "set2 = {3, 4, 5}\n",
    "new_set = set1.union(set2)\n",
    "print(\"Union of sets:\", new_set) "
   ]
  },
  {
   "cell_type": "code",
   "execution_count": 5,
   "id": "01c2597c-4c20-4956-9ad9-5c360dea5c31",
   "metadata": {},
   "outputs": [
    {
     "name": "stdout",
     "output_type": "stream",
     "text": [
      "Updated set1: {1, 2, 3, 4, 5}\n"
     ]
    }
   ],
   "source": [
    "# update() Method Example\n",
    "set1.update(set2)\n",
    "print(\"Updated set1:\", set1)"
   ]
  },
  {
   "cell_type": "code",
   "execution_count": 6,
   "id": "8c18cab1-ba6c-46f0-a0b7-62c866baa023",
   "metadata": {},
   "outputs": [
    {
     "name": "stdout",
     "output_type": "stream",
     "text": [
      "Dictionary: {'name': 'John', 'age': 25, 'city': 'New York'}\n"
     ]
    }
   ],
   "source": [
    "# Q5. What is a Dictionary?\n",
    "\n",
    "# Dictionary Example\n",
    "my_dict = {'name': 'John', 'age': 25, 'city': 'New York'}\n",
    "print(\"Dictionary:\", my_dict)"
   ]
  },
  {
   "cell_type": "code",
   "execution_count": 7,
   "id": "1455eeb5-05a6-4481-9449-4dc0614a8e1a",
   "metadata": {},
   "outputs": [
    {
     "name": "stdout",
     "output_type": "stream",
     "text": [
      "Nested Dictionary: {'course': 'Data Science', 'modules': {'module1': 'Python', 'module2': 'Machine Learning'}}\n"
     ]
    }
   ],
   "source": [
    "# Q6. Creating a Nested Dictionary\n",
    "\n",
    "# Nested Dictionary Example\n",
    "nested_dict = {\n",
    "    'course': 'Data Science',\n",
    "    'modules': {\n",
    "        'module1': 'Python',\n",
    "        'module2': 'Machine Learning'\n",
    "    }\n",
    "}\n",
    "print(\"Nested Dictionary:\", nested_dict)"
   ]
  },
  {
   "cell_type": "code",
   "execution_count": 8,
   "id": "759f8de5-0cc3-4629-9a82-2326082be8b4",
   "metadata": {},
   "outputs": [
    {
     "name": "stdout",
     "output_type": "stream",
     "text": [
      "Updated dict1: {'language': 'Python', 'course': 'Data Science Masters', 'topics': ['Python', 'Machine Learning', 'Deep Learning']}\n"
     ]
    }
   ],
   "source": [
    "\n",
    "# Q7. Using setdefault() to Add a Key-Value Pair\n",
    "\n",
    "dict1 = {'language': 'Python', 'course': 'Data Science Masters'}\n",
    "dict1.setdefault('topics', ['Python', 'Machine Learning', 'Deep Learning'])\n",
    "print(\"Updated dict1:\", dict1)"
   ]
  },
  {
   "cell_type": "code",
   "execution_count": 9,
   "id": "b37a06e9-ccd2-45fa-a1c1-1f7fb6443e85",
   "metadata": {},
   "outputs": [
    {
     "name": "stdout",
     "output_type": "stream",
     "text": [
      "Keys: dict_keys(['Sport', 'Teams'])\n",
      "Values: dict_values(['Cricket', ['India', 'Australia', 'England', 'South Africa', 'Sri Lanka', 'New Zealand']])\n",
      "Items: dict_items([('Sport', 'Cricket'), ('Teams', ['India', 'Australia', 'England', 'South Africa', 'Sri Lanka', 'New Zealand'])])\n"
     ]
    }
   ],
   "source": [
    "# Q8. Three View Objects in Dictionaries\n",
    "\n",
    "dict1 = {'Sport': 'Cricket', 'Teams': ['India', 'Australia', 'England', 'South Africa', 'Sri Lanka', 'New Zealand']}\n",
    "\n",
    "# View objects for keys, values, and items\n",
    "print(\"Keys:\", dict1.keys())    # Output: dict_keys(['Sport', 'Teams'])\n",
    "print(\"Values:\", dict1.values())  # Output: dict_values(['Cricket', ['India', 'Australia', 'England', 'South Africa', 'Sri Lanka', 'New Zealand']])\n",
    "print(\"Items:\", dict1.items())   # Output: dict_items([('Sport', 'Cricket'), ('Teams', ['India', 'Australia', 'England', 'South Africa', 'Sri Lanka', 'New Zealand'])])"
   ]
  },
  {
   "cell_type": "code",
   "execution_count": null,
   "id": "0f1d20ff-fa82-483d-85a0-a6fc2958dc15",
   "metadata": {},
   "outputs": [],
   "source": []
  }
 ],
 "metadata": {
  "kernelspec": {
   "display_name": "Python 3 (ipykernel)",
   "language": "python",
   "name": "python3"
  },
  "language_info": {
   "codemirror_mode": {
    "name": "ipython",
    "version": 3
   },
   "file_extension": ".py",
   "mimetype": "text/x-python",
   "name": "python",
   "nbconvert_exporter": "python",
   "pygments_lexer": "ipython3",
   "version": "3.9.13"
  }
 },
 "nbformat": 4,
 "nbformat_minor": 5
}

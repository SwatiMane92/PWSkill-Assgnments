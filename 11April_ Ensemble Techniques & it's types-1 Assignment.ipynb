{
 "cells": [
  {
   "cell_type": "code",
   "execution_count": null,
   "id": "524cddd8-9e20-4a40-be74-cefaf3dc2ba2",
   "metadata": {},
   "outputs": [],
   "source": [
    "# Machine Learning Ensemble Techniques and Bootstrap\n",
    "\n",
    "## Q1. What is an ensemble technique in machine learning?\n",
    "Ensemble techniques combine predictions from multiple models to improve performance and robustness.\n",
    "\n",
    "## Q2. Why are ensemble techniques used in machine learning?\n",
    "Ensemble techniques are used to:\n",
    "- Reduce overfitting.\n",
    "- Improve generalization.\n",
    "- Enhance prediction accuracy by leveraging the strengths of different models.\n",
    "\n",
    "## Q3. What is bagging?\n",
    "Bagging (Bootstrap Aggregating) involves training multiple models on different subsets of the training data (created by bootstrap sampling) and averaging their predictions to reduce variance.\n",
    "\n",
    "## Q4. What is boosting?\n",
    "Boosting involves sequentially training models where each model tries to correct errors made by the previous ones. The final prediction is a weighted sum of the predictions from all models.\n",
    "\n",
    "## Q5. What are the benefits of using ensemble techniques?\n",
    "- **Improved accuracy**: Combines multiple models to outperform individual models.\n",
    "- **Reduced overfitting**: Aggregates predictions to smooth out the model’s variance.\n",
    "- **Increased robustness**: Handles noisy data and outliers better.\n",
    "\n",
    "## Q6. Are ensemble techniques always better than individual models?\n",
    "Not always. While ensemble techniques often improve performance, they can be more computationally expensive and may not always outperform well-tuned individual models.\n",
    "\n",
    "## Q7. How is the confidence interval calculated using bootstrap?\n",
    "The confidence interval using bootstrap is calculated by:\n",
    "1. Generating multiple bootstrap samples from the original data.\n",
    "2. Calculating the statistic of interest (e.g., mean) for each sample.\n",
    "3. Determining the percentile range from these statistics to form the confidence interval.\n",
    "\n",
    "## Q8. How does bootstrap work and what are the steps involved in bootstrap?\n",
    "Bootstrap works by resampling the original dataset with replacement. The steps involved are:\n",
    "1. Generate a large number of bootstrap samples (each the same size as the original dataset) by sampling with replacement.\n",
    "2. Compute the statistic of interest (e.g., mean) for each bootstrap sample.\n",
    "3.Use the distribution of these statistics to estimate the confidence interval."
   ]
  },
  {
   "cell_type": "code",
   "execution_count": 1,
   "id": "4c80740e-3f01-48bb-bf5f-0a5491e6c935",
   "metadata": {},
   "outputs": [
    {
     "ename": "SyntaxError",
     "evalue": "invalid syntax (1510170836.py, line 4)",
     "output_type": "error",
     "traceback": [
      "\u001b[1;36m  Cell \u001b[1;32mIn[1], line 4\u001b[1;36m\u001b[0m\n\u001b[1;33m    - Sample size (n): 50\u001b[0m\n\u001b[1;37m             ^\u001b[0m\n\u001b[1;31mSyntaxError\u001b[0m\u001b[1;31m:\u001b[0m invalid syntax\n"
     ]
    }
   ],
   "source": [
    "## Q9. Bootstrap to estimate the 95% confidence interval for the population mean height\n",
    "\n",
    "### Given:\n",
    "- Sample size (n): 50\n",
    "- Sample mean (\\(\\bar{x}\\)): 15 meters\n",
    "- Sample standard deviation (s): 2 meters\n",
    "\n",
    "```python\n",
    "import numpy as np\n",
    "\n",
    "# Parameters\n",
    "np.random.seed(0)  # For reproducibility\n",
    "sample_size = 50\n",
    "mean_height = 15\n",
    "std_dev = 2\n",
    "n_bootstrap = 10000  # Number of bootstrap samples\n",
    "\n",
    "# Generate the original sample\n",
    "original_sample = np.random.normal(loc=mean_height, scale=std_dev, size=sample_size)\n",
    "\n",
    "# Perform bootstrap\n",
    "bootstrap_means = np.empty(n_bootstrap)\n",
    "for i in range(n_bootstrap):\n",
    "    bootstrap_sample = np.random.choice(original_sample, size=sample_size, replace=True)\n",
    "    bootstrap_means[i] = np.mean(bootstrap_sample)\n",
    "\n",
    "# Calculate 95% confidence interval\n",
    "lower_bound = np.percentile(bootstrap_means, 2.5)\n",
    "upper_bound = np.percentile(bootstrap_means, 97.5)\n",
    "\n",
    "(lower_bound, upper_bound)"
   ]
  },
  {
   "cell_type": "code",
   "execution_count": null,
   "id": "44b0612d-d73f-4ea3-9ba7-a12460d5ecf9",
   "metadata": {},
   "outputs": [],
   "source": []
  }
 ],
 "metadata": {
  "kernelspec": {
   "display_name": "Python 3 (ipykernel)",
   "language": "python",
   "name": "python3"
  },
  "language_info": {
   "codemirror_mode": {
    "name": "ipython",
    "version": 3
   },
   "file_extension": ".py",
   "mimetype": "text/x-python",
   "name": "python",
   "nbconvert_exporter": "python",
   "pygments_lexer": "ipython3",
   "version": "3.9.13"
  }
 },
 "nbformat": 4,
 "nbformat_minor": 5
}

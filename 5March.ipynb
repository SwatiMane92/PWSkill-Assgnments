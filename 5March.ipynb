{
 "cells": [
  {
   "cell_type": "code",
   "execution_count": 2,
   "id": "c4a83dce-4a2e-43ba-90b9-d40c08c5ba6d",
   "metadata": {},
   "outputs": [],
   "source": [
    "# Q1: How can you create a Bokeh plot using Python code?\n",
    "\n",
    "#To create a basic Bokeh plot, you need to use the `figure` function to create a plot and then add glyphs like circles, lines, etc. Here is a simple example:\n",
    "\n",
    "\n",
    "from bokeh.plotting import figure, show\n",
    "\n",
    "# Create a new plot\n",
    "p = figure(title=\"Simple Line Plot\", x_axis_label='x', y_axis_label='y')\n",
    "\n",
    "# Add a line glyph\n",
    "p.line([1, 2, 3, 4, 5], [6, 7, 2, 4, 5], legend_label=\"Line\", line_width=2)\n",
    "\n",
    "# Show the plot\n",
    "show(p)\n"
   ]
  },
  {
   "cell_type": "code",
   "execution_count": 3,
   "id": "df96737d-e1b8-43d7-836c-04977cd93e0c",
   "metadata": {},
   "outputs": [],
   "source": [
    "# Q2: What are glyphs in Bokeh, and how can you add them to a Bokeh plot? Explain with an example.\n",
    "\n",
    "#Glyphs are visual elements of a plot in Bokeh, such as points, lines, bars, etc. They represent data points or data series.\n",
    "\n",
    "#Example of adding glyphs (circles) to a Bokeh plot:\n",
    "\n",
    "from bokeh.plotting import figure, show\n",
    "\n",
    "# Create a new plot\n",
    "p = figure(title=\"Scatter Plot\", x_axis_label='x', y_axis_label='y')\n",
    "\n",
    "# Add circle glyphs\n",
    "p.circle([1, 2, 3, 4, 5], [6, 7, 2, 4, 5], size=10, color=\"navy\", alpha=0.5)\n",
    "\n",
    "# Show the plot\n",
    "show(p)\n"
   ]
  },
  {
   "cell_type": "code",
   "execution_count": 4,
   "id": "75f2770b-944d-4bf1-8956-389742a4a6ac",
   "metadata": {},
   "outputs": [],
   "source": [
    "from bokeh.plotting import figure, show\n",
    "\n",
    "# Create a new plot with custom styles\n",
    "p = figure(title=\"Customized Plot\", x_axis_label='x', y_axis_label='y', plot_width=600, plot_height=400)\n",
    "\n",
    "# Add a line glyph with custom styles\n",
    "p.line([1, 2, 3, 4, 5], [6, 7, 2, 4, 5], legend_label=\"Line\", line_width=3, color=\"green\")\n",
    "\n",
    "# Customize the title and axis labels\n",
    "p.title.text_font_size = '20pt'\n",
    "p.xaxis.axis_label_standoff = 12\n",
    "p.yaxis.axis_label_standoff = 12\n",
    "\n",
    "# Show the plot\n",
    "show(p)\n"
   ]
  },
  {
   "cell_type": "code",
   "execution_count": 5,
   "id": "b8ff6ed9-49b3-4a86-9071-a4783e4e50ec",
   "metadata": {},
   "outputs": [],
   "source": [
    "from bokeh.io import curdoc\n",
    "from bokeh.plotting import figure\n",
    "from bokeh.models import ColumnDataSource\n",
    "from bokeh.layouts import column\n",
    "import numpy as np\n",
    "\n",
    "# Create data\n",
    "x = np.linspace(0, 10, 100)\n",
    "y = np.sin(x)\n",
    "\n",
    "# Create a ColumnDataSource\n",
    "source = ColumnDataSource(data=dict(x=x, y=y))\n",
    "\n",
    "# Create a new plot\n",
    "p = figure(title=\"Interactive Plot\", x_axis_label='x', y_axis_label='y')\n",
    "p.line('x', 'y', source=source)\n",
    "\n",
    "# Add the plot to the current document\n",
    "curdoc().add_root(p)\n"
   ]
  },
  {
   "cell_type": "code",
   "execution_count": null,
   "id": "4b8bc38e-7114-4686-b7cf-dbf2a265d985",
   "metadata": {},
   "outputs": [],
   "source": [
    "from flask import Flask, render_template\n",
    "from bokeh.plotting import figure, output_file, components\n",
    "\n",
    "app = Flask(__name__)\n",
    "\n",
    "@app.route('/')\n",
    "def index():\n",
    "    # Create a Bokeh plot\n",
    "    p = figure(title=\"Flask with Bokeh\", x_axis_label='x', y_axis_label='y')\n",
    "    p.line([1, 2, 3, 4, 5], [6, 7, 2, 4, 5], line_width=2)\n",
    "\n",
    "    # Get script and div for embedding\n",
    "    script, div = components(p)\n",
    "    \n",
    "    return render_template('index.html', script=script, div=div)\n",
    "\n",
    "if __name__ == '__main__':\n",
    "    app.run()\n"
   ]
  },
  {
   "cell_type": "code",
   "execution_count": null,
   "id": "b83e2352-2829-485d-bbbd-d6fe4ddfbbdd",
   "metadata": {},
   "outputs": [],
   "source": [
    "<!DOCTYPE html>\n",
    "<html lang=\"en\">\n",
    "<head>\n",
    "    <meta charset=\"UTF-8\">\n",
    "    <title>Bokeh with Flask</title>\n",
    "    {{ script|safe }}\n",
    "</head>\n",
    "<body>\n",
    "    <h1>Bokeh Plot Embedded in Flask</h1>\n",
    "    {{ div|safe }}\n",
    "</body>\n",
    "</html>\n"
   ]
  },
  {
   "cell_type": "code",
   "execution_count": null,
   "id": "6788570c-455d-407c-916a-8ed5f3e733fd",
   "metadata": {},
   "outputs": [],
   "source": [
    "# views.py\n",
    "from django.shortcuts import render\n",
    "from bokeh.plotting import figure\n",
    "from bokeh.embed import components\n",
    "\n",
    "def index(request):\n",
    "    # Create a Bokeh plot\n",
    "    p = figure(title=\"Django with Bokeh\", x_axis_label='x', y_axis_label='y')\n",
    "    p.line([1, 2, 3, 4, 5], [6, 7, 2, 4, 5], line_width=2)\n",
    "\n",
    "    # Get script and div for embedding\n",
    "    script, div = components(p)\n",
    "    \n",
    "    return render(request, 'index.html', {'script': script, 'div': div})\n"
   ]
  }
 ],
 "metadata": {
  "kernelspec": {
   "display_name": "Python 3 (ipykernel)",
   "language": "python",
   "name": "python3"
  },
  "language_info": {
   "codemirror_mode": {
    "name": "ipython",
    "version": 3
   },
   "file_extension": ".py",
   "mimetype": "text/x-python",
   "name": "python",
   "nbconvert_exporter": "python",
   "pygments_lexer": "ipython3",
   "version": "3.9.13"
  }
 },
 "nbformat": 4,
 "nbformat_minor": 5
}

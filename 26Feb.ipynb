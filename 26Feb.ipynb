{
 "cells": [
  {
   "cell_type": "code",
   "execution_count": 1,
   "id": "136bcfd5-9af4-46af-9305-c9ab320861bd",
   "metadata": {},
   "outputs": [
    {
     "name": "stdout",
     "output_type": "stream",
     "text": [
      "Q1. Data types of variables:\n",
      "Type of list_: <class 'list'>\n",
      "Type of array_list: <class 'numpy.ndarray'>\n",
      "\n",
      "Q2. Data type of each element:\n",
      "Data types in list_: [<class 'str'>, <class 'str'>, <class 'str'>, <class 'str'>, <class 'str'>]\n",
      "Data types in array_list: [<class 'numpy.str_'>, <class 'numpy.str_'>, <class 'numpy.str_'>, <class 'numpy.str_'>, <class 'numpy.str_'>]\n",
      "\n",
      "Q3. Data types after converting array_list to int:\n",
      "Data types in list_: [<class 'str'>, <class 'str'>, <class 'str'>, <class 'str'>, <class 'str'>]\n",
      "Data types in array_list: [<class 'numpy.int32'>, <class 'numpy.int32'>, <class 'numpy.int32'>, <class 'numpy.int32'>, <class 'numpy.int32'>]\n",
      "\n",
      "Q4. Characteristics of num_array:\n",
      "Shape of num_array: (2, 3)\n",
      "Size of num_array: 6\n",
      "\n",
      "Q5. 3x3 matrix of zeros:\n",
      "[[0. 0. 0.]\n",
      " [0. 0. 0.]\n",
      " [0. 0. 0.]]\n",
      "\n",
      "Q6. 5x5 identity matrix:\n",
      "[[1. 0. 0. 0. 0.]\n",
      " [0. 1. 0. 0. 0.]\n",
      " [0. 0. 1. 0. 0.]\n",
      " [0. 0. 0. 1. 0.]\n",
      " [0. 0. 0. 0. 1.]]\n"
     ]
    }
   ],
   "source": [
    "import numpy as np\n",
    "\n",
    "# Q1. Check the data types of variables list_ and array_list\n",
    "list_ = ['1', '2', '3', '4', '5']\n",
    "array_list = np.array(object=list_)\n",
    "\n",
    "print(\"Q1. Data types of variables:\")\n",
    "print(\"Type of list_:\", type(list_))\n",
    "print(\"Type of array_list:\", type(array_list))\n",
    "\n",
    "# Q2. Print the data type of each element of list_ and array_list\n",
    "print(\"\\nQ2. Data type of each element:\")\n",
    "print(\"Data types in list_:\", [type(item) for item in list_])\n",
    "print(\"Data types in array_list:\", [type(item) for item in array_list])\n",
    "\n",
    "# Q3. Change dtype of array_list and compare data types\n",
    "array_list = np.array(object=list_, dtype=int)\n",
    "\n",
    "print(\"\\nQ3. Data types after converting array_list to int:\")\n",
    "print(\"Data types in list_:\", [type(item) for item in list_])\n",
    "print(\"Data types in array_list:\", [type(item) for item in array_list])\n",
    "\n",
    "# Q4. Find shape and size of num_array\n",
    "num_list = [[1, 2, 3], [4, 5, 6]]\n",
    "num_array = np.array(object=num_list)\n",
    "\n",
    "print(\"\\nQ4. Characteristics of num_array:\")\n",
    "print(\"Shape of num_array:\", num_array.shape)\n",
    "print(\"Size of num_array:\", num_array.size)\n",
    "\n",
    "# Q5. Create a 3x3 matrix containing zeros only\n",
    "zeros_matrix = np.zeros((3, 3))\n",
    "print(\"\\nQ5. 3x3 matrix of zeros:\")\n",
    "print(zeros_matrix)\n",
    "\n",
    "# Q6. Create a 5x5 identity matrix\n",
    "identity_matrix = np.eye(5)\n",
    "print(\"\\nQ6. 5x5 identity matrix:\")\n",
    "print(identity_matrix)\n"
   ]
  },
  {
   "cell_type": "code",
   "execution_count": null,
   "id": "701a2ddc-e8a7-4acb-a793-0fe43117a68e",
   "metadata": {},
   "outputs": [],
   "source": []
  }
 ],
 "metadata": {
  "kernelspec": {
   "display_name": "Python 3 (ipykernel)",
   "language": "python",
   "name": "python3"
  },
  "language_info": {
   "codemirror_mode": {
    "name": "ipython",
    "version": 3
   },
   "file_extension": ".py",
   "mimetype": "text/x-python",
   "name": "python",
   "nbconvert_exporter": "python",
   "pygments_lexer": "ipython3",
   "version": "3.9.13"
  }
 },
 "nbformat": 4,
 "nbformat_minor": 5
}

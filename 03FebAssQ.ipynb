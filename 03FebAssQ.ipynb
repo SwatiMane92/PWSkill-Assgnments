{
 "cells": [
  {
   "cell_type": "code",
   "execution_count": 1,
   "id": "e154b5fc-872c-498b-8471-5373b4350202",
   "metadata": {},
   "outputs": [
    {
     "name": "stdout",
     "output_type": "stream",
     "text": [
      "Odd numbers from 1 to 25: [1, 3, 5, 7, 9, 11, 13, 15, 17, 19, 21, 23, 25]\n"
     ]
    }
   ],
   "source": [
    "# Q1. Which keyword is used to create a function?\n",
    "\n",
    "# The `def` keyword is used to create a function in Python.\n",
    "\n",
    "# Function to return a list of odd numbers in the range of 1 to 25\n",
    "def get_odd_numbers():\n",
    "    return [x for x in range(1, 26) if x % 2 != 0]\n",
    "\n",
    "# Calling the function\n",
    "odd_numbers = get_odd_numbers()\n",
    "print(\"Odd numbers from 1 to 25:\", odd_numbers)"
   ]
  },
  {
   "cell_type": "code",
   "execution_count": 2,
   "id": "3789cb0f-5c4f-41c4-ba2f-7a7332c11a38",
   "metadata": {},
   "outputs": [
    {
     "name": "stdout",
     "output_type": "stream",
     "text": [
      "Sum of numbers using *args: 15\n",
      "name: Alice\n",
      "age: 30\n",
      "city: New York\n"
     ]
    }
   ],
   "source": [
    "# Q2. Why *args and **kwargs are used in some functions?\n",
    "\n",
    "# *args allows a function to accept any number of positional arguments.\n",
    "# **kwargs allows a function to accept any number of keyword arguments.\n",
    "\n",
    "# Function using *args\n",
    "def sum_of_numbers(*args):\n",
    "    return sum(args)\n",
    "\n",
    "# Example using *args\n",
    "result = sum_of_numbers(1, 2, 3, 4, 5)\n",
    "print(\"Sum of numbers using *args:\", result)\n",
    "\n",
    "# Function using **kwargs\n",
    "def print_details(**kwargs):\n",
    "    for key, value in kwargs.items():\n",
    "        print(f\"{key}: {value}\")\n",
    "\n",
    "# Example using **kwargs\n",
    "print_details(name=\"Alice\", age=30, city=\"New York\")"
   ]
  },
  {
   "cell_type": "code",
   "execution_count": 3,
   "id": "465e6420-c3ac-48af-b9ab-8cf9903a3b8a",
   "metadata": {},
   "outputs": [
    {
     "name": "stdout",
     "output_type": "stream",
     "text": [
      "First five elements using iterator:\n",
      "2\n",
      "4\n",
      "6\n",
      "8\n",
      "10\n"
     ]
    }
   ],
   "source": [
    "# Q3. What is an iterator in Python?\n",
    "\n",
    "# An iterator is an object that can be iterated upon (i.e., you can traverse through all the values).\n",
    "\n",
    "# Method to initialize the iterator object: iter()\n",
    "# Method used for iteration: next()\n",
    "\n",
    "# Using iter() and next() to print the first five elements of the given list\n",
    "my_list = [2, 4, 6, 8, 10, 12, 14, 16, 18, 20]\n",
    "iterator = iter(my_list)\n",
    "\n",
    "print(\"First five elements using iterator:\")\n",
    "for _ in range(5):\n",
    "    print(next(iterator))"
   ]
  },
  {
   "cell_type": "code",
   "execution_count": 4,
   "id": "a27afb20-ab48-4870-9645-15bf6849f54e",
   "metadata": {},
   "outputs": [
    {
     "name": "stdout",
     "output_type": "stream",
     "text": [
      "Squares generated:\n",
      "1\n",
      "4\n",
      "9\n",
      "16\n",
      "25\n"
     ]
    }
   ],
   "source": [
    "# Q4. What is a generator function in Python?\n",
    "\n",
    "# A generator function is a special type of function that returns an iterator and is used to generate values on the fly.\n",
    "\n",
    "# The yield keyword is used in a generator function to yield (produce) values one at a time, allowing the function to pause and resume.\n",
    "\n",
    "# Example of a generator function\n",
    "def generate_squares(n):\n",
    "    for i in range(1, n + 1):\n",
    "        yield i * i\n",
    "\n",
    "# Using the generator function\n",
    "squares = generate_squares(5)\n",
    "print(\"Squares generated:\")\n",
    "for square in squares:\n",
    "    print(square)"
   ]
  },
  {
   "cell_type": "code",
   "execution_count": null,
   "id": "b1734dac-8f0f-40f9-865c-e72e8cfa8df6",
   "metadata": {},
   "outputs": [],
   "source": []
  }
 ],
 "metadata": {
  "kernelspec": {
   "display_name": "Python 3 (ipykernel)",
   "language": "python",
   "name": "python3"
  },
  "language_info": {
   "codemirror_mode": {
    "name": "ipython",
    "version": 3
   },
   "file_extension": ".py",
   "mimetype": "text/x-python",
   "name": "python",
   "nbconvert_exporter": "python",
   "pygments_lexer": "ipython3",
   "version": "3.9.13"
  }
 },
 "nbformat": 4,
 "nbformat_minor": 5
}
